{
  "nbformat": 4,
  "nbformat_minor": 0,
  "metadata": {
    "colab": {
      "provenance": [],
      "gpuType": "T4"
    },
    "kernelspec": {
      "name": "python3",
      "display_name": "Python 3"
    },
    "language_info": {
      "name": "python"
    }
  },
  "cells": [
    {
      "cell_type": "code",
      "execution_count": null,
      "metadata": {
        "id": "pQE-2UWBn4Rl"
      },
      "outputs": [],
      "source": [
        "!pip install gpt4all > /dev/null"
      ]
    },
    {
      "cell_type": "code",
      "source": [
        "!pip install langchain"
      ],
      "metadata": {
        "colab": {
          "base_uri": "https://localhost:8080/"
        },
        "id": "WbJPdKZkoZUF",
        "outputId": "286e87d1-348b-4097-9b03-b8d93098eb39"
      },
      "execution_count": null,
      "outputs": [
        {
          "output_type": "stream",
          "name": "stdout",
          "text": [
            "Requirement already satisfied: langchain in /usr/local/lib/python3.10/dist-packages (0.0.247)\n",
            "Requirement already satisfied: PyYAML>=5.4.1 in /usr/local/lib/python3.10/dist-packages (from langchain) (6.0.1)\n",
            "Requirement already satisfied: SQLAlchemy<3,>=1.4 in /usr/local/lib/python3.10/dist-packages (from langchain) (2.0.19)\n",
            "Requirement already satisfied: aiohttp<4.0.0,>=3.8.3 in /usr/local/lib/python3.10/dist-packages (from langchain) (3.8.5)\n",
            "Requirement already satisfied: async-timeout<5.0.0,>=4.0.0 in /usr/local/lib/python3.10/dist-packages (from langchain) (4.0.2)\n",
            "Requirement already satisfied: dataclasses-json<0.6.0,>=0.5.7 in /usr/local/lib/python3.10/dist-packages (from langchain) (0.5.14)\n",
            "Requirement already satisfied: langsmith<0.1.0,>=0.0.11 in /usr/local/lib/python3.10/dist-packages (from langchain) (0.0.15)\n",
            "Requirement already satisfied: numexpr<3.0.0,>=2.8.4 in /usr/local/lib/python3.10/dist-packages (from langchain) (2.8.4)\n",
            "Requirement already satisfied: numpy<2,>=1 in /usr/local/lib/python3.10/dist-packages (from langchain) (1.22.4)\n",
            "Requirement already satisfied: openapi-schema-pydantic<2.0,>=1.2 in /usr/local/lib/python3.10/dist-packages (from langchain) (1.2.4)\n",
            "Requirement already satisfied: pydantic<2,>=1 in /usr/local/lib/python3.10/dist-packages (from langchain) (1.10.12)\n",
            "Requirement already satisfied: requests<3,>=2 in /usr/local/lib/python3.10/dist-packages (from langchain) (2.27.1)\n",
            "Requirement already satisfied: tenacity<9.0.0,>=8.1.0 in /usr/local/lib/python3.10/dist-packages (from langchain) (8.2.2)\n",
            "Requirement already satisfied: attrs>=17.3.0 in /usr/local/lib/python3.10/dist-packages (from aiohttp<4.0.0,>=3.8.3->langchain) (23.1.0)\n",
            "Requirement already satisfied: charset-normalizer<4.0,>=2.0 in /usr/local/lib/python3.10/dist-packages (from aiohttp<4.0.0,>=3.8.3->langchain) (2.0.12)\n",
            "Requirement already satisfied: multidict<7.0,>=4.5 in /usr/local/lib/python3.10/dist-packages (from aiohttp<4.0.0,>=3.8.3->langchain) (6.0.4)\n",
            "Requirement already satisfied: yarl<2.0,>=1.0 in /usr/local/lib/python3.10/dist-packages (from aiohttp<4.0.0,>=3.8.3->langchain) (1.9.2)\n",
            "Requirement already satisfied: frozenlist>=1.1.1 in /usr/local/lib/python3.10/dist-packages (from aiohttp<4.0.0,>=3.8.3->langchain) (1.4.0)\n",
            "Requirement already satisfied: aiosignal>=1.1.2 in /usr/local/lib/python3.10/dist-packages (from aiohttp<4.0.0,>=3.8.3->langchain) (1.3.1)\n",
            "Requirement already satisfied: marshmallow<4.0.0,>=3.18.0 in /usr/local/lib/python3.10/dist-packages (from dataclasses-json<0.6.0,>=0.5.7->langchain) (3.20.1)\n",
            "Requirement already satisfied: typing-inspect<1,>=0.4.0 in /usr/local/lib/python3.10/dist-packages (from dataclasses-json<0.6.0,>=0.5.7->langchain) (0.9.0)\n",
            "Requirement already satisfied: typing-extensions>=4.2.0 in /usr/local/lib/python3.10/dist-packages (from pydantic<2,>=1->langchain) (4.7.1)\n",
            "Requirement already satisfied: urllib3<1.27,>=1.21.1 in /usr/local/lib/python3.10/dist-packages (from requests<3,>=2->langchain) (1.26.16)\n",
            "Requirement already satisfied: certifi>=2017.4.17 in /usr/local/lib/python3.10/dist-packages (from requests<3,>=2->langchain) (2023.7.22)\n",
            "Requirement already satisfied: idna<4,>=2.5 in /usr/local/lib/python3.10/dist-packages (from requests<3,>=2->langchain) (3.4)\n",
            "Requirement already satisfied: greenlet!=0.4.17 in /usr/local/lib/python3.10/dist-packages (from SQLAlchemy<3,>=1.4->langchain) (2.0.2)\n",
            "Requirement already satisfied: packaging>=17.0 in /usr/local/lib/python3.10/dist-packages (from marshmallow<4.0.0,>=3.18.0->dataclasses-json<0.6.0,>=0.5.7->langchain) (23.1)\n",
            "Requirement already satisfied: mypy-extensions>=0.3.0 in /usr/local/lib/python3.10/dist-packages (from typing-inspect<1,>=0.4.0->dataclasses-json<0.6.0,>=0.5.7->langchain) (1.0.0)\n"
          ]
        }
      ]
    },
    {
      "cell_type": "code",
      "source": [
        "from langchain import PromptTemplate, LLMChain\n",
        "from langchain.llms import GPT4All\n",
        "from langchain.callbacks.streaming_stdout import StreamingStdOutCallbackHandler"
      ],
      "metadata": {
        "id": "31pUqn4roDub"
      },
      "execution_count": null,
      "outputs": []
    },
    {
      "cell_type": "code",
      "source": [
        "pip install huggingface_hub"
      ],
      "metadata": {
        "colab": {
          "base_uri": "https://localhost:8080/"
        },
        "id": "NjztsdiLEeIL",
        "outputId": "23ec9574-c660-43d1-9f21-8aba3811e9e0"
      },
      "execution_count": null,
      "outputs": [
        {
          "output_type": "stream",
          "name": "stdout",
          "text": [
            "Requirement already satisfied: huggingface_hub in /usr/local/lib/python3.10/dist-packages (0.16.4)\n",
            "Requirement already satisfied: filelock in /usr/local/lib/python3.10/dist-packages (from huggingface_hub) (3.12.2)\n",
            "Requirement already satisfied: fsspec in /usr/local/lib/python3.10/dist-packages (from huggingface_hub) (2023.6.0)\n",
            "Requirement already satisfied: requests in /usr/local/lib/python3.10/dist-packages (from huggingface_hub) (2.27.1)\n",
            "Requirement already satisfied: tqdm>=4.42.1 in /usr/local/lib/python3.10/dist-packages (from huggingface_hub) (4.65.0)\n",
            "Requirement already satisfied: pyyaml>=5.1 in /usr/local/lib/python3.10/dist-packages (from huggingface_hub) (6.0.1)\n",
            "Requirement already satisfied: typing-extensions>=3.7.4.3 in /usr/local/lib/python3.10/dist-packages (from huggingface_hub) (4.7.1)\n",
            "Requirement already satisfied: packaging>=20.9 in /usr/local/lib/python3.10/dist-packages (from huggingface_hub) (23.1)\n",
            "Requirement already satisfied: urllib3<1.27,>=1.21.1 in /usr/local/lib/python3.10/dist-packages (from requests->huggingface_hub) (1.26.16)\n",
            "Requirement already satisfied: certifi>=2017.4.17 in /usr/local/lib/python3.10/dist-packages (from requests->huggingface_hub) (2023.7.22)\n",
            "Requirement already satisfied: charset-normalizer~=2.0.0 in /usr/local/lib/python3.10/dist-packages (from requests->huggingface_hub) (2.0.12)\n",
            "Requirement already satisfied: idna<4,>=2.5 in /usr/local/lib/python3.10/dist-packages (from requests->huggingface_hub) (3.4)\n"
          ]
        }
      ]
    },
    {
      "cell_type": "code",
      "source": [
        "# get a token: https://huggingface.co/docs/api-inference/quicktour#get-your-api-token\n",
        "\n",
        "from getpass import getpass\n",
        "\n",
        "HUGGINGFACEHUB_API_TOKEN = getpass()"
      ],
      "metadata": {
        "colab": {
          "base_uri": "https://localhost:8080/"
        },
        "id": "oEsxSTqgEfju",
        "outputId": "6cdf7bf6-dbf0-4715-d868-778ee26106b8"
      },
      "execution_count": null,
      "outputs": [
        {
          "name": "stdout",
          "output_type": "stream",
          "text": [
            "··········\n"
          ]
        }
      ]
    },
    {
      "cell_type": "code",
      "source": [
        "import os\n",
        "\n",
        "os.environ[\"HUGGINGFACEHUB_API_TOKEN\"] = HUGGINGFACEHUB_API_TOKEN"
      ],
      "metadata": {
        "id": "dZe7MVSiEjtz"
      },
      "execution_count": null,
      "outputs": []
    },
    {
      "cell_type": "code",
      "source": [
        "from langchain import HuggingFaceHub"
      ],
      "metadata": {
        "id": "X-Rb5A2qElmL"
      },
      "execution_count": null,
      "outputs": []
    },
    {
      "cell_type": "code",
      "source": [
        "from langchain import PromptTemplate, LLMChain"
      ],
      "metadata": {
        "id": "VfqMkIDlEmwa"
      },
      "execution_count": null,
      "outputs": []
    },
    {
      "cell_type": "code",
      "source": [
        "repo_id = \"gpt2-xl\"  # See https://huggingface.co/models?pipeline_tag=text-generation&sort=downloads for some other options"
      ],
      "metadata": {
        "id": "5YEappX_ErH5"
      },
      "execution_count": null,
      "outputs": []
    },
    {
      "cell_type": "code",
      "source": [
        "from langchain.document_loaders import WebBaseLoader\n",
        "data = []\n",
        "loader = WebBaseLoader(\"https://www.nu.edu.pk/Admissions/HowToApply\")\n",
        "data.append(loader.load())\n",
        "\n",
        "loader = WebBaseLoader(\"https://www.nu.edu.pk/Admissions/EligibilityCriteria\")\n",
        "data.append(loader.load())\n",
        "\n",
        "\n",
        "loader = WebBaseLoader(\"https://www.nu.edu.pk/Admissions/TestPattern\")\n",
        "data.append(loader.load())\n",
        "\n",
        "\n",
        "loader = WebBaseLoader(\"https://www.nu.edu.pk/Degree-Programs\")\n",
        "data.append(loader.load())\n",
        "\n",
        "\n",
        "loader = WebBaseLoader(\"https://www.nu.edu.pk/Admissions/Scholarship\")\n",
        "data.append(loader.load())\n",
        "\n",
        "\n",
        "loader = WebBaseLoader(\"https://www.nu.edu.pk/Admissions/FeeStructure\")\n",
        "data.append(loader.load())"
      ],
      "metadata": {
        "id": "K8ZZZNIqySmR"
      },
      "execution_count": null,
      "outputs": []
    },
    {
      "cell_type": "code",
      "source": [
        "with open('readme.txt', 'a') as f:\n",
        "    for i in data:\n",
        "      f.write(str(i))"
      ],
      "metadata": {
        "id": "cYJOUEnByklB"
      },
      "execution_count": null,
      "outputs": []
    },
    {
      "cell_type": "code",
      "source": [
        "question = \"What is FAST NUCES university?\"\n",
        "context = data[1]\n",
        "pattern = data[2]\n",
        "\n",
        "template = \"\"\"\n",
        "You are an admission officer of FAST NUCES University. FAST NUCES Stands for National University of Computer and Emerging Sciences. It is number 1 university in Pakistan.\n",
        "Test Pattern\\n\\n\\n\\n\\n\\n\\n\\n\\n\\n\\n\\n\\n\\n\\n\\n\\n\\n\\n\\n\\n\\n\\n\\n\\n\\n\\n\\n\\n\\n\\n\\n\\n\\n\\n\\n\\n\\n\\n\\n\\n\\n\\n\\n\\n\\n\\n\\nHome\\n\\n\\nAdmissions\\n\\n\\nOffered Programs\\n\\n\\nAdmission Schedule\\n\\n\\nHow To Apply\\n\\n\\nEligibility Criteria\\n\\n\\nLoans/Scholarships\\n\\n\\nTest Pattern\\n\\n\\nFee Structure\\n\\n\\nProspectus 2022\\n\\n\\n\\n\\nCampuses\\n\\n\\nChiniot-Faisalabad Campus\\n\\n\\nHome\\n\\n\\nFaculty & Staff\\n\\n\\nPhD Supervisors\\n\\n\\nEvents\\n\\n\\nMedal Holders\\n\\n\\nRector's List\\n\\n\\nDean's List\\n\\n\\nScholarship Awardees\\n\\n\\nEE Department (Mission Vision)\\n\\n\\n\\n\\nIslamabad Campus\\n\\n\\nHome\\n\\n\\nFaculty & Staff\\n\\n\\nPhD Supervisors\\n\\n\\nEvents\\n\\n\\nResearch\\n\\n\\nMedal Holders\\n\\n\\nRector's List\\n\\n\\nDean's List\\n\\n\\nScholarship Awardees\\n\\n\\nEE Department (Mission Vision)\\n\\n\\n\\n\\nKarachi Campus\\n\\n\\nHome\\n\\n\\nFaculty & Staff\\n\\n\\nPhD Supervisors\\n\\n\\nEvents\\n\\n\\nResearch\\n\\n\\nMedal Holders\\n\\n\\nRector's List\\n\\n\\nDean's List\\n\\n\\nScholarship Awardees\\n\\n\\nEE Department (Mission Vision)\\n\\n\\n\\n\\nLahore Campus\\n\\n\\nHome\\n\\n\\nFaculty & Staff\\n\\n\\nPhD Supervisors\\n\\n\\nEvents\\n\\n\\nResearch\\n\\n\\nMedal Holders\\n\\n\\nRector's List\\n\\n\\nDean's List\\n\\n\\nScholarship Awardees\\n\\n\\nCivil Engg. Department (Mission Vision)\\n\\n\\nEE Department (Mission Vision)\\n\\n\\n\\n\\nPeshawar Campus\\n\\n\\nHome\\n\\n\\nFaculty & Staff\\n\\n\\nPhD Supervisors\\n\\n\\nEvents\\n\\n\\nResearch\\n\\n\\nMedal Holders\\n\\n\\nRector's List\\n\\n\\nDean's List\\n\\n\\nScholarship Awardees\\n\\n\\nEE Department (Mission Vision)\\n\\n\\n\\n\\n\\n\\nStudents\\n\\n\\nDegree Verification Program\\n\\n\\nAcademic Calendar\\r\\n\\n\\n\\nCode of Conduct\\n\\n\\nGrading\\n\\n\\nStudent Chapters\\n\\n\\nIEEE-NUCES\\n\\n\\nNUCES-ACM\\n\\n\\n\\n\\nRules & Regulations\\n\\n\\nBachelor Programs\\n\\n\\nPhD Programs\\n\\n\\n\\n\\nEquivalence by HEC\\n\\n\\nFlex Student Module\\n\\n\\nPhd Graduates\\n\\n\\nFinancial Rules\\n\\n\\n\\n\\nUniversity\\n\\n\\nHistory\\n\\n\\nFoundation\\n\\n\\nChancellor\\n\\n\\nVision & Mission Statement\\n\\n\\nBoard of Trustees\\n\\n\\nBoard of Governors\\n\\n\\nOfficers of the University\\n\\n\\nHeadquarter\\n\\n\\nPhD Faculty\\n\\n\\nHEC Approved PhD Supervisor\\n\\n\\nPhD Thesis Reviewers\\n\\n\\n\\n\\nServices\\n\\n\\nFAST-NU Library\\n\\n\\nAlumni\\n\\n\\nFAST Connect (For Alumni)\\n\\n\\nFAST Connect (For Faculty)\\n\\n\\nOSAF\\n\\n\\n\\n\\nJob Portal\\n\\n\\nNU Mail\\n\\n\\nSLATE-LMS\\n\\n\\nCareer Services Office\\n\\n\\nPublic Information Officer\\n\\n\\nDownloads\\n\\n\\n\\n\\nORIC\\n\\n\\nHome\\n\\n\\nResearch\\n\\n\\nFunding Opportunities\\n\\n\\nFunded Projects\\n\\n\\nResearch Labs\\n\\n\\n\\n\\nCapacity Building\\n\\n\\nConference/Seminar\\n\\n\\nTravel Grants\\n\\n\\n\\n\\nInnovation & Commercialization\\n\\n\\nEntrepreneurs\\n\\n\\nIncubation Facilities\\n\\n\\nPatent\\n\\n\\n\\n\\nPolicies\\n\\n\\nAnnouncements\\n\\n\\nScholarships\\n\\n\\nPhoto Gallery\\n\\n\\nDownloads\\n\\n\\nForms\\n\\n\\n\\n\\nTeam\\n\\n\\n\\n\\nQEC\\n\\n\\nHome\\n\\n\\nTeam\\n\\n\\nAccreditation\\n\\n\\nSelf Assessment\\n\\n\\nTeam\\n\\n\\nStatus\\n\\n\\n\\n\\nCapacity Building\\n\\n\\nContribution\\n\\n\\nParticipation\\n\\n\\nFaculty Training\\n\\n\\nQEC Meetings\\n\\n\\nAnnual Activity Calendar\\n\\n\\nCapacity Building Calendar\\n\\n\\n\\n\\nPublications\\n\\n\\nPhoto Gallery\\n\\n\\nDownloads\\n\\n\\nNU Membership\\n\\n\\n\\n\\nContact Us\\n\\n\\nCareer\\n\\n\\n\\n\\n\\n\\n\\n\\n\\n\\n\\n\\n\\n\\n\\n\\n\\n\\n\\n\\n\\n\\nTest Pattern\\n\\nHome\\nAdmissions\\nTest Pattern\\n\\n\\n\\n\\n\\n\\n\\n\\n\\n\\n\\nSection/Topic\\nBBA & BS (AF/BA/FinTech)\\nBS(CS/Engg.)\\nMBA\\nMS(Applied Ling.)\\nMS(Computing)\\nOther MSPrograms\\n\\n\\n\\n\\nEnglish\\n10% \\n10% \\n10% \\n15% \\n\\n5% \\n\\n\\nEssay Writing\\n15% \\n- \\n30% \\n25%\\n10%\\n10%\\n\\n\\nAnalytical Skills & IQ \\n25%\\n20%\\n20%\\n15%\\n30%\\n20%\\n\\n\\nBasic Math\\n50%\\n20%\\n-\\n-\\n-\\n-\\n\\n\\nAdv. Math\\n-\\n50%\\n-\\n-\\n-\\n10%\\n\\n\\nSpecialization Area\\n-\\n-\\n-\\n45%\\n30% \\n40% \\n\\n\\nQuantitative Methods\\n-\\n-\\n20% \\n-\\n30%\\n15%\\n\\n\\nBusiness related Knowledge\\n-\\n-\\n20%\\n- \\n-\\n-\\n\\n\\n\\n\\n\\n\\nNote: There will be Negative Marking and use of calculators is not allowed in the Admission Test.\\n\\n\\n\\n\\nDownload Sample Test Papers\\n\\n\\n\\n\\nBBA/BS (AF)\\nBS (CS/EE)\\nMS(Applied Linguistics)\\nMS(English Language Teaching)\\n\\n\\n\\n\\n\\n\\nDownload PhD Test Guidelines\\n\\n\\n\\n\\nPhD (CS) & PhD (SE)\\nPhD (MG)\\n\\n\\n\\n\\n\\n\\n\\n\\n\\n\\n\\n\\n\\n\\n\\n\\n\\n\\nContact\\n\\n\\n\\n\\n\\n\\n\\n\\n\\nContact:\\n111-128-128\\n\\n\\n\\n\\n\\n\\n\\n\\nLocation:\\n\\nFAST-House\\nRohtas Road, G-9/4\\nIslamabad - 44000\\n\\n\\n\\n\\n\\n\\n\\n\\n\\nUSEFUL LINKS\\n\\n\\n\\n\\n\\nPrograms\\nPEEF\\nNU Mail\\nCareers\\nFAST Connect \\xa0(For Alumni)\\nFAST Connect \\xa0(For Faculty)\\nOSAF\\n\\n\\n\\n\\nDegree Verification\\nSLATE-LMS\\nORIC\\nQEC\\nContact Us\\nFAST-NU Library\\nCoE-CPEC\\n\\n\\n\\n\\n\\n\\n\\n\\n\\n\\n\\nCampuses\\n\\nChiniot-Faisalabad Campus\\nIslamabad Campus\\nKarachi Campus\\nLahore Campus\\nPeshawar Campus\\n\\n\\n\\n\\n\\n\\n\\nCopyright Â© 2023 , NUCES. All Rights Reserved.\n",
        "How To Apply\\n\\n\\n\\n\\n\\n\\n\\n\\n\\n\\n\\n\\n\\n\\n\\n\\n\\n\\n\\n\\n\\n\\n\\n\\n\\n\\n\\n\\n\\n\\n\\n\\n\\n\\n\\n\\n\\n\\n\\n\\n\\n\\n\\n\\n\\n\\n\\nHome\\n\\n\\nAdmissions\\n\\n\\nOffered Programs\\n\\n\\nAdmission Schedule\\n\\n\\nHow To Apply\\n\\n\\nEligibility Criteria\\n\\n\\nLoans/Scholarships\\n\\n\\nTest Pattern\\n\\n\\nFee Structure\\n\\n\\nProspectus 2022\\n\\n\\n\\n\\nCampuses\\n\\n\\nChiniot-Faisalabad Campus\\n\\n\\nHome\\n\\n\\nFaculty & Staff\\n\\n\\nPhD Supervisors\\n\\n\\nEvents\\n\\n\\nMedal Holders\\n\\n\\nRector's List\\n\\n\\nDean's List\\n\\n\\nScholarship Awardees\\n\\n\\nEE Department (Mission Vision)\\n\\n\\n\\n\\nIslamabad Campus\\n\\n\\nHome\\n\\n\\nFaculty & Staff\\n\\n\\nPhD Supervisors\\n\\n\\nEvents\\n\\n\\nResearch\\n\\n\\nMedal Holders\\n\\n\\nRector's List\\n\\n\\nDean's List\\n\\n\\nScholarship Awardees\\n\\n\\nEE Department (Mission Vision)\\n\\n\\n\\n\\nKarachi Campus\\n\\n\\nHome\\n\\n\\nFaculty & Staff\\n\\n\\nPhD Supervisors\\n\\n\\nEvents\\n\\n\\nResearch\\n\\n\\nMedal Holders\\n\\n\\nRector's List\\n\\n\\nDean's List\\n\\n\\nScholarship Awardees\\n\\n\\nEE Department (Mission Vision)\\n\\n\\n\\n\\nLahore Campus\\n\\n\\nHome\\n\\n\\nFaculty & Staff\\n\\n\\nPhD Supervisors\\n\\n\\nEvents\\n\\n\\nResearch\\n\\n\\nMedal Holders\\n\\n\\nRector's List\\n\\n\\nDean's List\\n\\n\\nScholarship Awardees\\n\\n\\nCivil Engg. Department (Mission Vision)\\n\\n\\nEE Department (Mission Vision)\\n\\n\\n\\n\\nPeshawar Campus\\n\\n\\nHome\\n\\n\\nFaculty & Staff\\n\\n\\nPhD Supervisors\\n\\n\\nEvents\\n\\n\\nResearch\\n\\n\\nMedal Holders\\n\\n\\nRector's List\\n\\n\\nDean's List\\n\\n\\nScholarship Awardees\\n\\n\\nEE Department (Mission Vision)\\n\\n\\n\\n\\n\\n\\nStudents\\n\\n\\nDegree Verification Program\\n\\n\\nAcademic Calendar\\r\\n\\n\\n\\nCode of Conduct\\n\\n\\nGrading\\n\\n\\nStudent Chapters\\n\\n\\nIEEE-NUCES\\n\\n\\nNUCES-ACM\\n\\n\\n\\n\\nRules & Regulations\\n\\n\\nBachelor Programs\\n\\n\\nPhD Programs\\n\\n\\n\\n\\nEquivalence by HEC\\n\\n\\nFlex Student Module\\n\\n\\nPhd Graduates\\n\\n\\nFinancial Rules\\n\\n\\n\\n\\nUniversity\\n\\n\\nHistory\\n\\n\\nFoundation\\n\\n\\nChancellor\\n\\n\\nVision & Mission Statement\\n\\n\\nBoard of Trustees\\n\\n\\nBoard of Governors\\n\\n\\nOfficers of the University\\n\\n\\nHeadquarter\\n\\n\\nPhD Faculty\\n\\n\\nHEC Approved PhD Supervisor\\n\\n\\nPhD Thesis Reviewers\\n\\n\\n\\n\\nServices\\n\\n\\nFAST-NU Library\\n\\n\\nAlumni\\n\\n\\nFAST Connect (For Alumni)\\n\\n\\nFAST Connect (For Faculty)\\n\\n\\nOSAF\\n\\n\\n\\n\\nJob Portal\\n\\n\\nNU Mail\\n\\n\\nSLATE-LMS\\n\\n\\nCareer Services Office\\n\\n\\nPublic Information Officer\\n\\n\\nDownloads\\n\\n\\n\\n\\nORIC\\n\\n\\nHome\\n\\n\\nResearch\\n\\n\\nFunding Opportunities\\n\\n\\nFunded Projects\\n\\n\\nResearch Labs\\n\\n\\n\\n\\nCapacity Building\\n\\n\\nConference/Seminar\\n\\n\\nTravel Grants\\n\\n\\n\\n\\nInnovation & Commercialization\\n\\n\\nEntrepreneurs\\n\\n\\nIncubation Facilities\\n\\n\\nPatent\\n\\n\\n\\n\\nPolicies\\n\\n\\nAnnouncements\\n\\n\\nScholarships\\n\\n\\nPhoto Gallery\\n\\n\\nDownloads\\n\\n\\nForms\\n\\n\\n\\n\\nTeam\\n\\n\\n\\n\\nQEC\\n\\n\\nHome\\n\\n\\nTeam\\n\\n\\nAccreditation\\n\\n\\nSelf Assessment\\n\\n\\nTeam\\n\\n\\nStatus\\n\\n\\n\\n\\nCapacity Building\\n\\n\\nContribution\\n\\n\\nParticipation\\n\\n\\nFaculty Training\\n\\n\\nQEC Meetings\\n\\n\\nAnnual Activity Calendar\\n\\n\\nCapacity Building Calendar\\n\\n\\n\\n\\nPublications\\n\\n\\nPhoto Gallery\\n\\n\\nDownloads\\n\\n\\nNU Membership\\n\\n\\n\\n\\nContact Us\\n\\n\\nCareer\\n\\n\\n\\n\\n\\n\\n\\n\\n\\n\\n\\n\\n\\n\\n\\n\\n\\n\\n\\n\\n\\n\\nHow To Apply\\n\\n Home\\n Admissions\\nHow To Apply\\n\\n\\n\\n\\n\\n\\n\\n\\n\\n\\nAdmission Procedure\\n\\n\\n\\nThe procedure for admission is as follows:\\n\\n\\r\\n                                Admission Application Form must be filled online by following the instructions.\\n Click Here\\n for Online Admission Application\\r\\n                            \\nApplications received through post or by hand will not be accepted/entertained.\\nThe online system assigns a unique Application Reference Number (ARN) to each applicant, which must be noted for later use.\\nApplicant will confirm that information entered in the Admission Application Form is correct. In case of incorrect information, the University has all the rights to cancel the application/admission without any fee refund.\\n\\r\\n                                Applicant will deposit the Application Fee in the designated Bank. Fee is non-refundable/adjustable.\\n\\nUpon payment of the Application Processing Fee (and additional Admission Test Fee), the applicant will print his/her ADMIT CARD bearing the applicant’s TEST ROLL NUMBER.\\nThe applicant should then visit the test campus on the specified date and time as mentioned on the Admit card.\\n\\nAdmission of a student automatically stands cancelled if he or she fails in the required exam whose result was not available at the time of admission.\\n\\n\\n\\nNU Online Admission Test for Graduate programs\\n\\n\\r\\n                            Information on various Admission Tests is available on the University’s admission web-site\\r\\n                            \\nadmissions.nu.edu.pk\\n\\n\\nThe online admission test is taken on a computer. The candidate should be familiar with the use of mouse and the keyboard. Each candidate is given a different examination. The sections of a test (English, Analytical skills, Math etc) appear in a random sequence. Moreover, questions related to different topics also appear before the candidate in a random sequence. In each section, a candidate can move forward and backwards to review the responses selected. The candidate can change his or her response to any question within the current section.\\nEach section of the admission test has a fixed duration. Each section is timed independently and time saved in one section is not carried forward to the next sections. At the end of the test, a summary of the results is displayed on screen. The duration of the Online Admission Test is between two and three hours.\\nApplicants should reach the test centre on the date and time specified on the admit card. Latecomers will not be allowed to take the test. Applicants should not bring anything to the test centre except their Admit Cards. No applicant will be allowed to take the test without an endorsed Admit Card. The Admission Test is held at all campuses of the University (Karachi, Lahore, Islamabad, and Peshawar).\\nSelection Criteria\\n\\n\\nClick Here\\n for Selection Criteria.\\r\\n                        \\n\\n\\n\\nSelected Candidates Announcement\\n\\n\\r\\n                                    The selected candidates are informed through SMS on their cell phones and also via email. The candidates should check the status of their admission from the University web site \\nadmissions.nu.edu.pk\\n or \\nwww.nu.edu.pk\\n.\\r\\n                                \\n\\n\\n\\nForeign Nationals\\n\\nAt the time of admission, foreign nationals must submit a No Objection Certificate (NOC) from the Ministry of Education, Government of Pakistan.\\n\\n\\n\\n\\nThe procedure for admission is as follows:\\n\\n\\r\\n                                Admission Application Form must be filled online by following the instructions.\\n Click Here\\n for Online Admission Application\\r\\n                            \\nApplications received through post or by hand will not be accepted/entertained.\\nThe online system assigns a unique Application Reference Number (ARN) to each applicant, which must be noted for later use.\\nApplicant will confirm that information entered in the Admission Application Form is correct. In case of incorrect information, the University has all the rights to cancel the application/admission without any fee refund.\\n\\nAdmission of a student automatically stands cancelled if he or she fails in the required exam whose result was not available at the time of admission.\\n\\n\\n\\nAnnouncements of Selected Candidates\\n\\n\\r\\n                            The selected candidates are informed through SMS on their cell phones and also via email. The candidates should check the status of their admission from the University web site \\nadmissions.nu.edu.pk\\n or \\nwww.nu.edu.pk\\n.\\r\\n                        \\nForeign Nationals\\nAt the time of admission, foreign nationals must submit a No Objection Certificate (NOC) from the Ministry of Education, Government of Pakistan.\\nGRE and SAT Examinations\\nThose who have taken SAT examination can apply for admission to the undergraduate programs, i.e. BBA or BS.\\nThose who have taken the GRE (subject test) can apply for admission to graduate programs, i.e. MS, MBA or PhD.\\n\\nClick here to Apply Online\\n\\n\\nThe Institution code for receiving SAT scores is 4575\\n\\n\\nThe Institution code for receiving GRE scores is 7386\\n\\n\\n\\n\\n\\n\\n\\n\\n\\n\\n\\n\\n\\n\\n\\n\\n\\n\\n\\n\\nContact\\n\\n\\n\\n\\n\\n\\n\\n\\n\\nContact:\\n111-128-128\\n\\n\\n\\n\\n\\n\\n\\n\\nLocation:\\n\\nFAST-House\\nRohtas Road, G-9/4\\nIslamabad - 44000\\n\\n\\n\\n\\n\\n\\n\\n\\n\\nUSEFUL LINKS\\n\\n\\n\\n\\n\\nPrograms\\nPEEF\\nNU Mail\\nCareers\\nFAST Connect \\xa0(For Alumni)\\nFAST Connect \\xa0(For Faculty)\\nOSAF\\n\\n\\n\\n\\nDegree Verification\\nSLATE-LMS\\nORIC\\nQEC\\nContact Us\\nFAST-NU Library\\nCoE-CPEC\\n\\n\\n\\n\\n\\n\\n\\n\\n\\n\\n\\nCampuses\\n\\nChiniot-Faisalabad Campus\\nIslamabad Campus\\nKarachi Campus\\nLahore Campus\\nPeshawar Campus\\n\\n\\n\\n\\n\\n\\n\\nCopyright © 2023 , NUCES. All Rights Reserved.\n",
        "Eligibility Criteria\\n\\n\\n\\n\\n\\n\\n\\n\\n\\n\\n\\n\\n\\n\\n\\n\\n\\n\\n\\n\\n\\n\\n\\n\\n\\n\\n\\n\\n\\n\\n\\n\\n\\n\\n\\n\\n\\n\\n\\n\\n\\n\\n\\n\\n\\n\\n\\nHome\\n\\n\\nAdmissions\\n\\n\\nOffered Programs\\n\\n\\nAdmission Schedule\\n\\n\\nHow To Apply\\n\\n\\nEligibility Criteria\\n\\n\\nLoans/Scholarships\\n\\n\\nTest Pattern\\n\\n\\nFee Structure\\n\\n\\nProspectus 2022\\n\\n\\n\\n\\nCampuses\\n\\n\\nChiniot-Faisalabad Campus\\n\\n\\nHome\\n\\n\\nFaculty & Staff\\n\\n\\nPhD Supervisors\\n\\n\\nEvents\\n\\n\\nMedal Holders\\n\\n\\nRector's List\\n\\n\\nDean's List\\n\\n\\nScholarship Awardees\\n\\n\\nEE Department (Mission Vision)\\n\\n\\n\\n\\nIslamabad Campus\\n\\n\\nHome\\n\\n\\nFaculty & Staff\\n\\n\\nPhD Supervisors\\n\\n\\nEvents\\n\\n\\nResearch\\n\\n\\nMedal Holders\\n\\n\\nRector's List\\n\\n\\nDean's List\\n\\n\\nScholarship Awardees\\n\\n\\nEE Department (Mission Vision)\\n\\n\\n\\n\\nKarachi Campus\\n\\n\\nHome\\n\\n\\nFaculty & Staff\\n\\n\\nPhD Supervisors\\n\\n\\nEvents\\n\\n\\nResearch\\n\\n\\nMedal Holders\\n\\n\\nRector's List\\n\\n\\nDean's List\\n\\n\\nScholarship Awardees\\n\\n\\nEE Department (Mission Vision)\\n\\n\\n\\n\\nLahore Campus\\n\\n\\nHome\\n\\n\\nFaculty & Staff\\n\\n\\nPhD Supervisors\\n\\n\\nEvents\\n\\n\\nResearch\\n\\n\\nMedal Holders\\n\\n\\nRector's List\\n\\n\\nDean's List\\n\\n\\nScholarship Awardees\\n\\n\\nCivil Engg. Department (Mission Vision)\\n\\n\\nEE Department (Mission Vision)\\n\\n\\n\\n\\nPeshawar Campus\\n\\n\\nHome\\n\\n\\nFaculty & Staff\\n\\n\\nPhD Supervisors\\n\\n\\nEvents\\n\\n\\nResearch\\n\\n\\nMedal Holders\\n\\n\\nRector's List\\n\\n\\nDean's List\\n\\n\\nScholarship Awardees\\n\\n\\nEE Department (Mission Vision)\\n\\n\\n\\n\\n\\n\\nStudents\\n\\n\\nDegree Verification Program\\n\\n\\nAcademic Calendar\\r\\n\\n\\n\\nCode of Conduct\\n\\n\\nGrading\\n\\n\\nStudent Chapters\\n\\n\\nIEEE-NUCES\\n\\n\\nNUCES-ACM\\n\\n\\n\\n\\nRules & Regulations\\n\\n\\nBachelor Programs\\n\\n\\nPhD Programs\\n\\n\\n\\n\\nEquivalence by HEC\\n\\n\\nFlex Student Module\\n\\n\\nPhd Graduates\\n\\n\\nFinancial Rules\\n\\n\\n\\n\\nUniversity\\n\\n\\nHistory\\n\\n\\nFoundation\\n\\n\\nChancellor\\n\\n\\nVision & Mission Statement\\n\\n\\nBoard of Trustees\\n\\n\\nBoard of Governors\\n\\n\\nOfficers of the University\\n\\n\\nHeadquarter\\n\\n\\nPhD Faculty\\n\\n\\nHEC Approved PhD Supervisor\\n\\n\\nPhD Thesis Reviewers\\n\\n\\n\\n\\nServices\\n\\n\\nFAST-NU Library\\n\\n\\nAlumni\\n\\n\\nFAST Connect (For Alumni)\\n\\n\\nFAST Connect (For Faculty)\\n\\n\\nOSAF\\n\\n\\n\\n\\nJob Portal\\n\\n\\nNU Mail\\n\\n\\nSLATE-LMS\\n\\n\\nCareer Services Office\\n\\n\\nPublic Information Officer\\n\\n\\nDownloads\\n\\n\\n\\n\\nORIC\\n\\n\\nHome\\n\\n\\nResearch\\n\\n\\nFunding Opportunities\\n\\n\\nFunded Projects\\n\\n\\nResearch Labs\\n\\n\\n\\n\\nCapacity Building\\n\\n\\nConference/Seminar\\n\\n\\nTravel Grants\\n\\n\\n\\n\\nInnovation & Commercialization\\n\\n\\nEntrepreneurs\\n\\n\\nIncubation Facilities\\n\\n\\nPatent\\n\\n\\n\\n\\nPolicies\\n\\n\\nAnnouncements\\n\\n\\nScholarships\\n\\n\\nPhoto Gallery\\n\\n\\nDownloads\\n\\n\\nForms\\n\\n\\n\\n\\nTeam\\n\\n\\n\\n\\nQEC\\n\\n\\nHome\\n\\n\\nTeam\\n\\n\\nAccreditation\\n\\n\\nSelf Assessment\\n\\n\\nTeam\\n\\n\\nStatus\\n\\n\\n\\n\\nCapacity Building\\n\\n\\nContribution\\n\\n\\nParticipation\\n\\n\\nFaculty Training\\n\\n\\nQEC Meetings\\n\\n\\nAnnual Activity Calendar\\n\\n\\nCapacity Building Calendar\\n\\n\\n\\n\\nPublications\\n\\n\\nPhoto Gallery\\n\\n\\nDownloads\\n\\n\\nNU Membership\\n\\n\\n\\n\\nContact Us\\n\\n\\nCareer\\n\\n\\n\\n\\n\\n\\n\\n\\n\\n\\n\\n\\n\\n\\n\\n\\n\\n\\n\\n\\n\\n\\nEligibility Criteria\\n\\nHome\\nAdmissions\\nEligibility Criteria\\n\\n\\n\\n\\n\\n\\n\\n\\n\\n\\nUpdated on:  14-Jun-2023 \\n\\n\\n\\n\\n\\nUndergraduate Programs \\n\\n\\n\\n\\n\\n\\n\\n\\nThose who have taken the HSSC or an equivalent examination and are awaiting result are also eligible to apply.\\r\\n                                The four-year undergraduate programs of full time study are divided into eight semesters.\\r\\n                            \\n\\r\\n                                The applicants who reside abroad and are unable to appear for the NU test can apply on SAT basis.  The minimum SAT score required for BBA, BS(AF), BS(BA), and BS(FinTech) is 1000 and for all other computing and engineering programs, it is 1200. Such applicants can send an email along with a soft copy of their SAT score and academic certificates to admissions@nu.edu.pk.\\r\\n                            \\n\\n\\n\\n\\n\\n\\n1. BS (Engineering)\\n\\n\\n\\nEligibility:\\n\\nAt least 60% marks in SSC (Matric) or an equivalent examination (such as O-levels) AND\\nShould have studied for HSSC or an equivalent qualification, for at least two years AND\\nAt least 60% marks in the Pre-Engineering or an equivalent examination\\n\\nSelection Criteria:\\n\\n33% weight to marks obtained in Admission Test AND\\n17% weight of SSC (or an equivalent exam)  AND\\n 50% weight of HSSC (or an equivalent exam) \\n\\r\\n                                                Weightage of HSSC marks shall be calculated based on (which ever is applicable) at the time\\r\\n                                                of compilation of merit list\\r\\n                                                \\n\\r\\n                                                        HSSC part I and II OR\\n\\nHSSC part I if HSSC part II not available OR\\nIBCC equivalence of A-level OR\\nIBCC equivalence of O-level\\n\\n\\n\\nCandidates having taken NTS-NAT exam\\n\\nCut-off marks in the NTS-NAT IE exam to be determined by the University\\n\\n\\n\\nNOTE:All documents/transcripts will be checked at the time of admission.Any\\r\\n                                                incorrect/false information submitted by the applicant or any attempt to hide information\\r\\n                                                will lead to disqualification of the candidate.\\r\\n                                            \\n\\n\\n\\n\\n\\n\\n2. BS (Computing programs)\\n\\n\\n\\nEligibility:\\n\\nAt least 60% marks in SSC (Matric) or an equivalent examination (such as O-levels) AND\\nShould have studied for HSSC or an equivalent qualification, for at least two years AND\\n\\r\\n                                                At least 50% marks in HSSC or an equivalent qualification AND\\n\\nstudied Mathematics at the HSSC or equivalent level. \\n\\nSelection Criteria:\\n\\n50% weight to marks obtained in Admission Test  AND\\n10% weight of SSC (or an equivalent exam) AND\\n 40% weight of HSSC (or an equivalent exam)  \\n\\r\\n                                                Weightage of HSSC marks shall be calculated based on (which ever is applicable) at the time\\r\\n                                                of compilation of merit list\\r\\n                                                \\n\\r\\n                                                        HSSC part I and II OR\\n\\nHSSC part I if HSSC part II not available OR\\nIBCC equivalence of A-level OR\\nIBCC equivalence of O-level\\n\\n\\n\\nCandidates having taken NTS-NAT IE or NAT ICS exam\\n\\nCut-off marks in the NTS-NAT IE exam to be determined by the University\\n\\n\\n\\nNOTE:All documents/transcripts will be checked at the time of admission.Any\\r\\n                                                incorrect/false information submitted by the applicant or any attempt to hide information\\r\\n                                                will lead to disqualification of the candidate.\\r\\n                                            \\n\\n\\n\\n\\n\\n\\n3. BBA / BS (Accounting & Finance / Business Analytics / FinTech)\\n\\n\\n\\nEligibility:\\n\\nAt least 60% marks in SSC (Matric) or an equivalent examination (such as O-levels) AND\\nShould have studied for HSSC or an equivalent qualification, for at least two years AND\\nAt least 50% marks in HSSC or an equivalent qualification\\n\\nSelection Criteria:\\n\\n50% weight to marks obtained in Admission Test  AND\\n10% weight of SSC (or an equivalent exam)  AND \\n 40% weight of HSSC (or an equivalent exam) \\n\\r\\n                                                Weightage of HSSC marks shall be calculated based on (which ever is applicable) at the time\\r\\n                                                of compilation of merit list\\r\\n                                                \\n\\r\\n                                                        HSSC part I and II OR\\n\\nHSSC part I if HSSC part II not available OR\\nIBCC equivalence of A-level OR\\nIBCC equivalence of O-level\\n\\n\\n\\nCandidates having taken NTS-NAT exam\\n\\nCut-off marks in the NTS-NAT IE, NAT ICS, NAT-ICOM or NAT-IGS exam to be determined by the University\\n\\n\\n\\nNOTE:All documents/transcripts will be checked at the time of admission.Any\\r\\n                                                incorrect/false information submitted by the applicant or any attempt to hide information\\r\\n                                                will lead to disqualification of the candidate.\\r\\n                                            \\n\\n\\n\\n\\n\\n\\n\\n\\n\\n\\n\\n\\n\\n\\n\\nMaster's Programs \\n\\n\\n\\n\\n\\n\\n\\n1. MBA (2-years)\\n\\n\\n\\nEligibility:\\n\\nBBA or an equivalent degree from a recognized university received after 16 years of education AND\\nAt least 60% marks or CGPA of at least 2.0 (on a scale of 4.0).\\n\\nSelection Criteria:\\n\\nPast Academic Record (Bachelor): 50%\\nPerformance in NU Subject Admission Test: 50%\\n\\n\\n\\n\\n\\n\\n2. MS (Software Project Management)\\n\\n\\n\\nEligibility:\\n\\nDegree in relevant subject earned after 16 years of education from an HEC recognized university.\\nAt least 60% marks or CGPA of at least 2.0 (on a scale of 4.0).\\nTwo years of post qualification experience in software development or related area.\\n\\nSelection Criteria:\\n\\nPast Academic Record (Bachelor): 50%\\nPerformance in NU subject Admission Test: 50%\\n\\n\\n\\n\\n\\n\\n3. MS  (Artificial Intelligence / Computer Networks & Security / Computer Science / Data Science / Software Engineering)\\n\\n\\n\\nEligibility:\\n\\nDegree in relevant subject earned after 16 years of education from an HEC recognised university.\\nAt least 60% marks or CGPA of at least 2.0 (on a scale of 4.0).\\n\\nSelection Criteria:\\n\\nPast Academic Record (Bachelor): 50%\\nAdmission Test Score: 50%\\n\\n\\n\\n\\n\\n\\n4. MS (Civil Engineering / Electrical Engineering)\\n\\n\\n\\nEligibility:\\n\\nPEC Accredited Bachelor Degree in relevant engineering discipline.\\nMinimum CGPA of 2.0 (on a scale of 4.0) or at least 60% marks.\\n\\nSelection Criteria:\\n\\nPast Academic Record (Bachelor): 40%\\nPerformance in NU MS Admission Test: 60%\\n\\n\\n\\n\\n\\n\\n5. MS (Mathematics)\\n\\n\\n\\nEligibility:\\n\\nDegree in relevant subject, earned from a recognized university after 16 years of education AND\\nAt least 55% marks (under annual system or CGPA of at least 2.0(on a scale of 4.0) in the most recent degree program.\\n\\nSelection Criteria:\\n\\nPast Academic Record (Bachelor) (4 year Bachelor OR 2 year masters): 50%\\nPerformance in NU MS Subject Admission Test: 50%\\n\\n\\n\\n\\n\\n\\n6. MS (Applied Linguistics)\\n\\n\\n\\nEligibility:\\n\\nMasters degree in ELT, TESL, English Literature or a related discipline AND\\nAt least 55% marks or CGPA of at least 2.0(on a scale of 4.0).\\n\\nSelection Criteria:\\n\\nPast Academic Record (Bachelor): 50%\\nPerformance in NU Admission Test: 50%\\n\\n\\n\\n\\n\\n\\n7. MS (Management Sciences)\\n\\n\\n\\nEligibility:\\n\\nA Bachelor's degree in a relevant subject, earned from a recognized university after a minimum of 16 years of education with at least 60 percent marks or a CGPA of at least 2.0/4.0 or equivalent. The students must have taken two courses in each of the main streams of Accounting, Finance, Marketing and Management. AND\\nA minimum of 50% marks and at least 50 percentile rank in NTS in the NTS GAT-General OR at least 1,800 score (out of 2,400) in International GRE and at least 4 out of 6 in analytical writing. There score should be valid at the time of admission.\\n\\nSelection Criteria:\\n\\nPast Academic Record (Bachelor): 50%\\nPerformance in NU subject Admission Test: 50%\\n\\n\\n\\n\\n\\n\\n8. MS (Accounting & Finance)\\n\\n\\n\\nEligibility:\\n\\nA degree in accounting and finance equivalent to 16 years of education with at least 60% marks or CGPA of 2.0 (on a scale of 4.0)\\nBS A&F graduates, BBA graduates with majors in Finance, BCom (Honors) MCom (16 years) and members of ACCA, ICMA & ICAP are eligible to apply.\\n\\nSelection Criteria:\\n\\nAdmission Test Score (same as that of MBA)\\t50%\\nInterview AND Group Exercise                50%\\n\\n\\n\\n\\n\\n\\n9. MS (Business Analytics)\\n\\n\\n\\nEligibility:\\n\\nA degree earned from a recognized university after 16 years of education with at least 60% marks or a CGPA of at least 2.0 (on a scale of 4.0). \\n\\nSelection Criteria:\\n\\nPast Academic Record (Masters and/or Bachelor Degree)\\t50%\\nPerformance in NU Subject Admission Test and Interview  50%\\n\\n\\n\\n\\n\\n\\n\\n\\n\\n\\n\\n\\n\\nPhD. Programs \\n\\n\\n\\n\\n\\n\\n\\n1. PhD (Civil Engineering / Computer Science / Electrical Engineering / Management Sciences / Mathematics / Software Engineering)\\n\\n\\n\\nEligibility:\\n\\nA degree in a relevant subject, earned from a recognized university after 18  years of relevant education AND\\nAt least 70% marks (in the Annual system) or CGPA of at least 3.0 (on a scale of 4.0) AND\\nApplicant must have earned Master degree with coursework and Thesis.\\n\\nSelection Criteria:\\n\\nAdmission is based on candidate’s performance in the following:\\n\\r\\n                                        Minimum 60% marks and at least 50 percentile rank in NTS-Subject GAT or International GRE Subject Test AND\\n\\nInterview (to assess research potential)\\n\\n\\n\\n\\n\\n\\n\\n\\n\\n\\n\\n\\n\\n\\n\\n\\n\\n\\n\\n\\n\\n\\nContact\\n\\n\\n\\n\\n\\n\\n\\n\\n\\nContact:\\n111-128-128\\n\\n\\n\\n\\n\\n\\n\\n\\nLocation:\\n\\nFAST-House\\nRohtas Road, G-9/4\\nIslamabad - 44000\\n\\n\\n\\n\\n\\n\\n\\n\\n\\nUSEFUL LINKS\\n\\n\\n\\n\\n\\nPrograms\\nPEEF\\nNU Mail\\nCareers\\nFAST Connect \\xa0(For Alumni)\\nFAST Connect \\xa0(For Faculty)\\nOSAF\\n\\n\\n\\n\\nDegree Verification\\nSLATE-LMS\\nORIC\\nQEC\\nContact Us\\nFAST-NU Library\\nCoE-CPEC\\n\\n\\n\\n\\n\\n\\n\\n\\n\\n\\n\\nCampuses\\n\\nChiniot-Faisalabad Campus\\nIslamabad Campus\\nKarachi Campus\\nLahore Campus\\nPeshawar Campus\\n\\n\\n\\n\\n\\n\\n\\nCopyright © 2023 , NUCES. All Rights Reserved.\n",
        "Scholarship is also offered to top three position holders in the merit list of NU admission merit list.\\nThis scholarship is for four years of un-interrupted studies with full course load and is equal to the full tuition fee. Continuation of merit scholarship is subject to maintaining semester GPA of 3.0 or higher.\\n\\nHEC Scholarships for MS and PhD students\\n\\nThe Higher Education Commission (HEC) provides liberal scholarships to students desirous of studying for the MS and PhD degrees at this university. The scholarship covers tuition fee, monthly stipend and book allowance.\\n\\nPunjab Educational Endowment Fund (PEEF) Scholarships\\n\\nThe Government of Punjab gives 42 scholarships to indigent students having domicile of Punjab. Newly admitted students in any campus of the university can apply for this scholarship.The scholarship is for 4-year undergraduate studies and covers some portion of the tuition fee. The remaining tuition fee can be given by the University as Qarz-e-Hasna.\\n\\nSindh Government Endowment Board Scholarships\\n\\nThe Sindh Government offers scholarships to students of Karachi campus on need-cum-merit for both under-graduate and graduate studies. The scholarship covers full tuition fee for entire duration of the program, renewable every year. The quota for students from rural sector is 60%, and the remaining 40% is for the students from urban sector. About 25 new scholarships are offered every year under this scheme.\\n\\nBaluchistan Government Endowment Board Scholarship\\n\\nBaluchistan Government offers scholarships to students of Karachi campus on need-cum-merit for both under-graduate and graduate studies. The scholarship covers full tuition fee for entire duration of the program, renewable every year.\\n\\n\\n\\nOSAF Financial Assistance (Study Loan)\\n\\nOSAF (Old Students Association of FAST) arranges financial assistance for those students who cannot afford to pay their full fee.\\n\\nOther Scholarships\\n\\nIn addition to the above scholarships there are various community based scholarships offered by various committees and foundations such as, Memon Community Scholarships, Bohra Community Scholarships, INFAQ Foundation scholarships, Agha Khan Foundation Scholarships, etc.\\nFor Karachi campus, Alumni Association, Hindu Community, and Agha Khan Foundation also provides scholarships in limited numbers.\\n\\nAssistantships\\n\\n The University may utilize the services of its students in its different activities. These students are compensated for rendering their services.\\n\\nBank Loans\\n\\nPICIC Commercial Bank, NIB Bank, Bank Alfalah, Bank Islami and MCB offer loans to students.\\n\\nStudy Loan\\n\\nRealizing that the fees may not be affordable for some of its students, FAST arranges financial assistance in the form of interest-free study loans for bright indigent students. This assistance is subject to renewal every semester in light of the student’s academic performance. Financial assistance is limited to tuition fee only and is discontinued if the student’s CGPA falls below the minimum specified to avoid warning. Loan recipients MUST take full load of courses offered. \\nClick Here to download loan application form\\n\\nApplying for Study Loan\\n\\nApplicants desirous of seeking study loan should apply for this purpose on the prescribed form available from all campuses or downloadable from the University web site.\\n\\nRepayment of Study Loan\\n\\nThe repayment of loan starts three months after graduation or soon after getting employment, whichever is earlier. The total amount has to be repaid within a period of four years after graduation. Students are required to sign a contract allowing future employers to deduct loan repayments at source and remit it to the University.\\n\\n\\n\\n\\n\\n\\n\\n\\n\\n\\n\\n\\n\\n\\n\\n\\n\\nContact\\n\\n\\n\\n\\n\\n\\n\\n\\n\\nContact:\\n111-128-128\\n\\n\\n\\n\\n\\n\\n\\n\\nLocation:\\n\\nFAST-House\\nRohtas Road, G-9/4\\nIslamabad - 44000\\n\\n\\n\\n\\n\\n\\n\\n\\n\\nUSEFUL LINKS\\n\\n\\n\\n\\n\\nPrograms\\nPEEF\\nNU Mail\\nCareers\\nFAST Connect \\xa0(For Alumni)\\nFAST Connect \\xa0(For Faculty)\\nOSAF\\n\\n\\n\\n\\nDegree Verification\\nSLATE-LMS\\nORIC\\nQEC\\nContact Us\\nFAST-NU Library\\nCoE-CPEC\\n\\n\\n\\n\\n\\n\\n\\n\\n\\n\\n\\nCampuses\\n\\nChiniot-Faisalabad Campus\\nIslamabad Campus\\nKarachi Campus\\nLahore Campus\\nPeshawar Campus\\n\\n\\n\\n\\n\\n\\n\\nCopyright © 2023 , NUCES. All Rights Reserved.\n",
        "Admission Fee\\n\\n\\r\\nAdmission Fee of Rs 20,000 is payable once at the time of admission. If a graduate of this University is admitted to a higher degree program, then admission fee is not payable again.\\r\\n                \\n\\nSecurity Deposit\\n\\n\\r\\n                    A refundable security deposit of Rs 20,000 is also payable at the time of admission.\\r\\n                \\n\\nTuition Fee\\n\\n\\r\\n                    Tuition Fee is payable in full before the start of each semester. It is subject to revision every year. For the academic year 2023-24 the tuition fee per credit hour is as follows:\\r\\n                \\n\\n\\n\\n\\nProgram\\nFee\\n\\n\\n\\n\\nBBA / BS\\nRs. 9,000\\n\\n\\nMBA / MS\\nRs. 9,000\\n\\n\\nPhD\\nRs. 9,000\\n\\n\\n\\n\\n\\nStudent Activities Fund\\n\\n\\r\\n                    To support co-curricular and extra-curricular activities a Student Activities Fund has been formed. Students contribute Rs 2,000 towards Students Activities Fund per semester.\\r\\n                \\n\\nMiscellaneous Fees\\n\\n\\n\\n\\n\\nAdditional Transcript Fee\\nRs. 200\\n\\n\\nCampus Transfer Fee\\nRs. 5,000\\n\\n\\nDegree Correction Fee\\nRs. 2,000\\n\\n\\nSemester Freeze Fee\\nRs. 10,000\\n\\n\\nThese fees are non-refundable.\\n\\n\\n\\n\\n\\nLate Payment Fine\\n\\nLate payment fine is levied on the entire outstanding fee (current as well as arrears). It is charged at the rate of Re 1.00 per day for every thousand rupees. Registration is suspended TWO months after the due date for payment of fee. \\n\\n\\n\\nWithholding Tax\\n\\n\\r\\n                    \\r\\n                    University shall collect advance tax from a person not appearing on the active taxpayers list (ATL) at 5% on the entire amount of fee paid, provided that annual fee paid exceeds Rs. 200,000. The Parent/Guardian will be required to provide NTN or CNIC number so that it can be adjusted at the time of filing of Income Tax return. The University will issue Tax Deduction Certificate.\\r\\n                \\n\\nFee Refund Policy\\n\\n\\r\\n                    1. Admission Fee is non-refundable.\\r\\n                    2. Security deposit is refundable at the time of completion of degree or closing of admission.\\r\\n                    3. Tuition Fee is refunded in accordance with the guidelines of Higher Education Commission (HEC).\\r\\n                \\n\\n\\n\\n\\n\\n%age of Tuition Fee\\n\\n\\n\\n\\nUp to 7th day of startof classes\\nFull (100 %) Refund\\n\\n\\nFrom 8th-15th day of commencement of classes\\nHalf (50 %) Refund\\n\\n\\nFrom 16th day of commencement of classes\\nNo Refund\\n\\n\\n\\n\\nDays shall be counted including working days and holidays.After declaration of result, admission of a student stands cancelled if he/she fails to meet the required eligibility requirement for admission. The fee refund is calculated from the date of his/her result announcement. \\n\\nPayment Instructions\\n\\n\\r\\n                    Fee can be paid using any one of the following methods:\\r\\n                    \\nPrint the challan form and then visit any nearest Faysal bank branch for cash deposit.\\n\\nVia bank account using Kuickpay payment gateway.\\nStep 1: Sign in to your Internet Banking, Mobile Banking or visit an ATM machine\\nStep 2: Select Bill Payment / Payments and then select ‘kuickpay’ from given categories\\nStep 3: Enter the voucher or invoice number & continue. Make sure to enter Institution ID as prefix (mentioned on challan)\\nStep 4: Confirm your voucher details and proceed to payment. Payment alerts will be received accordingly.\\r\\n                            *Customers of following Banks can avail Kuickpay service \\r\\n                            Allied Bank, Askari Bank, Bank Al Habib, Bank Alfalah, Bank Islami, Bank of Punjab, Dubai Islamic Bank, Faysal Bank, First Women Bank, Habib Metro Bank, Habib Bank Limited, JS Bank, MCB Bank, MCB Islamic Bank, Meezan Bank, National Bank, NRSP Bank, SAMBA Bank, Soneri bank, Summit Bank, UBL and Keenu App.\\r\\n                            ** Easy paisa and JazzCash can also be used for payment via kuickpay.\n",
        "\n",
        "Question: {question}\n",
        "\"\"\"\n",
        "\n",
        "prompt = PromptTemplate(template=template, input_variables=[\"question\"])"
      ],
      "metadata": {
        "id": "uPQG-BHgEor0"
      },
      "execution_count": null,
      "outputs": []
    },
    {
      "cell_type": "code",
      "source": [
        "userin = input()\n",
        "while userin != \"\":\n",
        "  llm = HuggingFaceHub(repo_id=repo_id, model_kwargs={\"temperature\": 0.5, \"max_length\": 40})\n",
        "  llm_chain = LLMChain(prompt=prompt, llm=llm)\n",
        "  print(llm_chain.run(userin))\n",
        "  userin = input()"
      ],
      "metadata": {
        "id": "9n2BeOBREsba"
      },
      "execution_count": null,
      "outputs": []
    }
  ]
}